{
 "cells": [
  {
   "cell_type": "code",
   "execution_count": null,
   "metadata": {},
   "outputs": [],
   "source": [
    "#using BenchmarkTools"
   ]
  },
  {
   "cell_type": "code",
   "execution_count": null,
   "metadata": {},
   "outputs": [],
   "source": [
    "function count_bins(xmin::Float64, xmax::Float64, nbins::Int, xs::Vector{Float64})\n",
    "    count = zeros(Int64, nbins)\n",
    "    dx = (xmax-xmin)/nbins\n",
    "    for x in xs\n",
    "        idx = convert(Int64, ceil((x-xmin)/dx))\n",
    "        count[idx] += 1\n",
    "    end\n",
    "    return count\n",
    "end\n",
    "\n",
    "@assert all(count_bins(0.0, 0.5, 5, [0.05, 0.15]) .== [1, 1, 0, 0, 0])"
   ]
  },
  {
   "cell_type": "code",
   "execution_count": null,
   "metadata": {},
   "outputs": [],
   "source": [
    "@code_warntype count_bins(0.0, 0.5, 5, [0.05, 0.15])"
   ]
  },
  {
   "cell_type": "code",
   "execution_count": null,
   "metadata": {},
   "outputs": [],
   "source": []
  }
 ],
 "metadata": {
  "kernelspec": {
   "display_name": "Julia 1.7.2",
   "language": "julia",
   "name": "julia-1.7"
  },
  "language_info": {
   "file_extension": ".jl",
   "mimetype": "application/julia",
   "name": "julia",
   "version": "1.7.2"
  },
  "orig_nbformat": 4
 },
 "nbformat": 4,
 "nbformat_minor": 2
}
